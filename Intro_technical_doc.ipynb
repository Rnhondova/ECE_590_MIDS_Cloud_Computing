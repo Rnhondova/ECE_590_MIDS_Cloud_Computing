{
  "nbformat": 4,
  "nbformat_minor": 0,
  "metadata": {
    "colab": {
      "name": "Intro_technical_doc.ipynb",
      "provenance": [],
      "authorship_tag": "ABX9TyP/TKAMzQLLoz3rET8tBqJ1",
      "include_colab_link": true
    },
    "kernelspec": {
      "name": "python3",
      "display_name": "Python 3"
    }
  },
  "cells": [
    {
      "cell_type": "markdown",
      "metadata": {
        "id": "view-in-github",
        "colab_type": "text"
      },
      "source": [
        "<a href=\"https://colab.research.google.com/github/drwitt/ECE_590_MIDS_Cloud_Computing/blob/master/Intro_technical_doc.ipynb\" target=\"_parent\"><img src=\"https://colab.research.google.com/assets/colab-badge.svg\" alt=\"Open In Colab\"/></a>"
      ]
    },
    {
      "cell_type": "markdown",
      "metadata": {
        "id": "n3Z1LMc_xArH",
        "colab_type": "text"
      },
      "source": [
        "# Introduction to Technical Documentation"
      ]
    },
    {
      "cell_type": "markdown",
      "metadata": {
        "id": "y9Ds0b5uxI62",
        "colab_type": "text"
      },
      "source": [
        "Here is how you might set up a data science project:"
      ]
    },
    {
      "cell_type": "markdown",
      "metadata": {
        "id": "3-hQH0YoxPDC",
        "colab_type": "text"
      },
      "source": [
        "**Step 1: Upload Data from Google Drive**"
      ]
    },
    {
      "cell_type": "code",
      "metadata": {
        "id": "8ZIaYNW6w_BZ",
        "colab_type": "code",
        "colab": {}
      },
      "source": [
        "from google.colab import drive\n",
        "drive.mount('/content/gdrive')"
      ],
      "execution_count": 0,
      "outputs": []
    },
    {
      "cell_type": "markdown",
      "metadata": {
        "id": "UHFVuSuJxf-7",
        "colab_type": "text"
      },
      "source": [
        "**Step 2: Exploratory Data Analysis (EDA)**"
      ]
    },
    {
      "cell_type": "markdown",
      "metadata": {
        "id": "bLC7uXwoxmOF",
        "colab_type": "text"
      },
      "source": [
        "**Step 3: Model Data Relationships**"
      ]
    }
  ]
}